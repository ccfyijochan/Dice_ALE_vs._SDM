{
 "cells": [
  {
   "cell_type": "code",
   "execution_count": 1,
   "metadata": {},
   "outputs": [
    {
     "name": "stderr",
     "output_type": "stream",
     "text": [
      "C:\\Users\\zhang\\.conda\\envs\\tensorflow\\lib\\site-packages\\nilearn\\datasets\\__init__.py:90: FutureWarning: Fetchers from the nilearn.datasets module will be updated in version 0.9 to return python strings instead of bytes and Pandas dataframes instead of Numpy arrays.\n",
      "  \"Numpy arrays.\", FutureWarning)\n"
     ]
    }
   ],
   "source": [
    "import os\n",
    "from subprocess import check_call\n",
    "import zipfile\n",
    "from nilearn import plotting\n",
    "import shutil\n",
    "import pandas as pd"
   ]
  },
  {
   "cell_type": "code",
   "execution_count": 2,
   "metadata": {},
   "outputs": [],
   "source": [
    "study = 'gad'"
   ]
  },
  {
   "cell_type": "code",
   "execution_count": 3,
   "metadata": {},
   "outputs": [],
   "source": [
    "#uncor_Thresholded statistics\n",
    "ALE_uncor_file = './input/' + study + '/ALE_uncor.nii'\n",
    "ALE_uncor_file_neg = './input/' + study + '/ALE_uncor_neg.nii'\n",
    "AES_uncor_file = './input/' + study + '/AES_uncor.nii.gz'\n",
    "AES_uncor_file_neg = './input/' + study + '/AES_uncor_neg.nii.gz'\n",
    "PSI_uncor_file = './input/' + study + '/PSI_uncor.nii.gz'\n",
    "PSI_uncor_file_neg = './input/' + study + '/PSI_uncor_neg.nii.gz'\n",
    "#uncor_Unthresholded statistics\n",
    "AES_stat_file = './input/' + study + '/AES_stat.nii.gz'\n",
    "ALE_stat_file = './input/' + study + '/ALE_stat.nii'\n",
    "ALE_stat_file_neg = './input/' + study + '/ALE_stat_neg.nii'\n",
    "PSI_stat_file = './input/' + study + '/PSI_stat.nii.gz'\n",
    "# uncor_Analysis mask\n",
    "AES_mask_file = './input/' + study + '/AES_mask.nii.gz'\n",
    "ALE_mask_file = './input/' + study + '/ALE_mask.nii.gz'\n",
    "PSI_mask_file = './input/' + study + '/PSI_mask.nii.gz'\n",
    "#cor_Thresholded statistics\n",
    "ALE_cor_file = './input/' + study + '/ALE_FWE.nii'\n",
    "ALE_cor_file_neg = './input/' + study + '/ALE_FWE_neg.nii'\n",
    "PSI_cor_file = './input/' + study + '/PSI_FWE.nii.gz'\n",
    "PSI_cor_file_neg = './input/' + study + '/PSI_FWE_neg.nii.gz'\n",
    "#cor_Unthresholded statistics\n",
    "ALE_cor_stat_file = './input/' + study + '/ALE_cor_stat.nii'\n",
    "ALE_cor_stat_file_neg = './input/' + study + '/ALE_cor_stat_neg.nii'\n",
    "PSI_cor_stat_file = './input/' + study + '/PSI_cor_stat.nii.gz'"
   ]
  },
  {
   "cell_type": "code",
   "execution_count": 4,
   "metadata": {
    "scrolled": false
   },
   "outputs": [
    {
     "name": "stderr",
     "output_type": "stream",
     "text": [
      "C:\\Users\\zhang\\.conda\\envs\\tensorflow\\lib\\site-packages\\scipy\\spatial\\distance.py:1417: RuntimeWarning: invalid value encountered in true_divide\n",
      "  return float((ntf + nft) / np.array(2.0 * ntt + ntf + nft))\n",
      "C:\\Users\\zhang\\Desktop\\cf\\Dice_and_Pearson\\Dice-coefficients-of-SDM-vs.-ALE-master\\dice.py:96: UserWarning: Resliced 1/2 and 2/1 dices are not close\n",
      "  warnings.warn(\"Resliced 1/2 and 2/1 dices are not close\")\n"
     ]
    },
    {
     "name": "stdout",
     "output_type": "stream",
     "text": [
      "PSI/AES positive activation dice coefficient = 0.10277, 0, 0\n",
      "PSI/ALE positive activation dice coefficient = 0.01262, 14, 0\n",
      "AES/ALE positive activation dice coefficient = 0.14323, 14, 3\n",
      "cor PSI/cor ALE positive activation dice coefficient = nan, 0, 100\n",
      "PSI/AES negative activation dice coefficient = 0.04379, 0, 0\n",
      "PSI/ALE negative activation dice coefficient = 0.00000, 20, 0\n",
      "AES/ALE negative activation dice coefficient = 0.21806, 20, 1\n",
      "cor PSI/ cor ALE negative activation dice coefficient = nan, 0, 0\n"
     ]
    }
   ],
   "source": [
    "import dice\n",
    "dice.dice(PSI_uncor_file, ALE_uncor_file, PSI_cor_file, \n",
    "          ALE_cor_file, PSI_uncor_file_neg, ALE_uncor_file_neg, \n",
    "          AES_uncor_file, AES_uncor_file_neg, PSI_cor_file_neg, ALE_cor_file_neg, \n",
    "          PSI_stat_file= PSI_stat_file, ALE_stat_file= ALE_stat_file, PSI_cor_stat_file= PSI_cor_stat_file,\n",
    "          ALE_cor_stat_file= ALE_cor_stat_file, AES_stat_file= AES_stat_file, study= study,\n",
    "          ALE_stat_file_neg= ALE_stat_file_neg, ALE_cor_stat_file_neg= ALE_cor_stat_file_neg,\n",
    "         )"
   ]
  },
  {
   "cell_type": "code",
   "execution_count": null,
   "metadata": {},
   "outputs": [],
   "source": []
  },
  {
   "cell_type": "code",
   "execution_count": null,
   "metadata": {},
   "outputs": [],
   "source": []
  }
 ],
 "metadata": {
  "kernelspec": {
   "display_name": "Python 3",
   "language": "python",
   "name": "python3"
  },
  "language_info": {
   "codemirror_mode": {
    "name": "ipython",
    "version": 3
   },
   "file_extension": ".py",
   "mimetype": "text/x-python",
   "name": "python",
   "nbconvert_exporter": "python",
   "pygments_lexer": "ipython3",
   "version": "3.7.10"
  }
 },
 "nbformat": 4,
 "nbformat_minor": 4
}
