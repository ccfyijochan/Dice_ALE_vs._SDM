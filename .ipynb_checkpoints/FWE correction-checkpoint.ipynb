{
 "cells": [
  {
   "cell_type": "code",
   "execution_count": 9,
   "id": "hollow-adrian",
   "metadata": {},
   "outputs": [],
   "source": [
    "import os\n",
    "from subprocess import check_call\n",
    "import zipfile\n",
    "from nilearn import plotting\n",
    "import shutil\n",
    "import pandas as pd"
   ]
  },
  {
   "cell_type": "code",
   "execution_count": 10,
   "id": "operational-supplier",
   "metadata": {},
   "outputs": [],
   "source": [
    "study = 'FWE_correction'"
   ]
  },
  {
   "cell_type": "code",
   "execution_count": 11,
   "id": "composed-lloyd",
   "metadata": {},
   "outputs": [],
   "source": [
    "#ALE_Thresholded statistics\n",
    "cluster_ALE_file = './input/' + study + '/cluster_ALE.nii'\n",
    "cluster_ALE_file_neg = './input/' + study + '/cluster_ALE_neg.nii'\n",
    "voxel_ALE_file = './input/' + study + '/voxel_ALE.nii'\n",
    "voxel_ALE_file_neg = './input/' + study + '/voxel_ALE_neg.nii'\n",
    "#uncor_Unthresholded statistics\n",
    "voxel_ALE_stat_file = './input/' + study + '/voxel_ALE_stat.nii'\n",
    "voxel_ALE_stat_file_neg = './input/' + study + '/voxel_ALE_stat_neg.nii'\n",
    "cluster_ALE_stat_file = './input/' + study + '/cluster_ALE_stat.nii'\n",
    "cluster_ALE_stat_file_neg = './input/' + study + '/cluster_ALE_stat_neg.nii'\n",
    "# uncor_Analysis mask\n",
    "voxel_ALE_mask_file = './input/' + study + '/ALE_mask.nii.gz'\n",
    "cluster_ALE_mask_file = './input/' + study + '/ALE_mask.nii.gz'"
   ]
  },
  {
   "cell_type": "code",
   "execution_count": 12,
   "id": "actual-fairy",
   "metadata": {},
   "outputs": [
    {
     "name": "stdout",
     "output_type": "stream",
     "text": [
      "voxel_ALE/cluster_ALE positive activation dice coefficient = 0.44660, 0, 0\n",
      "voxel_ALE/cluster_ALE negative activation dice coefficient = nan, 0, 0\n"
     ]
    },
    {
     "name": "stderr",
     "output_type": "stream",
     "text": [
      "C:\\Users\\zhang\\.conda\\envs\\tensorflow\\lib\\site-packages\\scipy\\spatial\\distance.py:1417: RuntimeWarning: invalid value encountered in true_divide\n",
      "  return float((ntf + nft) / np.array(2.0 * ntt + ntf + nft))\n",
      "C:\\Users\\zhang\\Desktop\\cf\\Dice_and_Pearson\\Dice-coefficients-of-SDM-vs.-ALE-master\\dice_FWE_correction.py:96: UserWarning: Resliced 1/2 and 2/1 dices are not close\n",
      "  warnings.warn(\"Resliced 1/2 and 2/1 dices are not close\")\n"
     ]
    }
   ],
   "source": [
    "import dice_FWE_correction\n",
    "dice_FWE_correction.dice(cluster_ALE_file, voxel_ALE_file,\n",
    "         cluster_ALE_file_neg, voxel_ALE_file_neg, \n",
    "         cluster_ALE_stat_file=cluster_ALE_stat_file, voxel_ALE_stat_file=voxel_ALE_stat_file, voxel_ALE_stat_file_neg=voxel_ALE_stat_file_neg,cluster_ALE_stat_file_neg=cluster_ALE_stat_file_neg,\n",
    "         study=study,\n",
    "         )"
   ]
  },
  {
   "cell_type": "code",
   "execution_count": null,
   "id": "revolutionary-blackjack",
   "metadata": {},
   "outputs": [],
   "source": []
  }
 ],
 "metadata": {
  "kernelspec": {
   "display_name": "Python 3",
   "language": "python",
   "name": "python3"
  },
  "language_info": {
   "codemirror_mode": {
    "name": "ipython",
    "version": 3
   },
   "file_extension": ".py",
   "mimetype": "text/x-python",
   "name": "python",
   "nbconvert_exporter": "python",
   "pygments_lexer": "ipython3",
   "version": "3.7.10"
  }
 },
 "nbformat": 4,
 "nbformat_minor": 5
}
