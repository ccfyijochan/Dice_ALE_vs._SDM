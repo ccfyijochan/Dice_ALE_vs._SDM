{
 "cells": [
  {
   "cell_type": "code",
   "execution_count": 14,
   "id": "numeric-chicken",
   "metadata": {},
   "outputs": [],
   "source": [
    "import os\n",
    "from subprocess import check_call\n",
    "import zipfile\n",
    "from nilearn import plotting\n",
    "import shutil\n",
    "import pandas as pd"
   ]
  },
  {
   "cell_type": "code",
   "execution_count": 15,
   "id": "alternative-secret",
   "metadata": {},
   "outputs": [],
   "source": [
    "study = 'including_vs_excluding_no_peak_articles'"
   ]
  },
  {
   "cell_type": "code",
   "execution_count": 16,
   "id": "solar-sound",
   "metadata": {},
   "outputs": [],
   "source": [
    "#ALE_Thresholded statistics\n",
    "including_ALE_file = './input/' + study + '/including_ALE_uncor.nii'\n",
    "including_ALE_file_neg = './input/' + study + '/including_ALE_uncor_neg.nii'\n",
    "excluding_ALE_file = './input/' + study + '/excluding_ALE_uncor.nii'\n",
    "excluding_ALE_file_neg = './input/' + study + '/excluding_ALE_uncor_neg.nii'\n",
    "including_AES_file = './input/' + study + '/including_AES_uncor.nii.gz'\n",
    "including_AES_file_neg = './input/' + study + '/including_AES_uncor_neg.nii.gz'\n",
    "excluding_AES_file = './input/' + study + '/excluding_AES_uncor.nii.gz'\n",
    "excluding_AES_file_neg = './input/' + study + '/excluding_AES_uncor_neg.nii.gz'\n",
    "including_PSI_file = './input/' + study + '/including_PSI_uncor.nii.gz'\n",
    "including_PSI_file_neg = './input/' + study + '/including_PSI_uncor_neg.nii.gz'\n",
    "excluding_PSI_file = './input/' + study + '/excluding_PSI_uncor.nii.gz'\n",
    "excluding_PSI_file_neg = './input/' + study + '/excluding_PSI_uncor_neg.nii.gz'\n",
    "#uncor_Unthresholded statistics\n",
    "including_ALE_stat_file = './input/' + study + '/including_ALE_stat.nii'\n",
    "including_ALE_stat_file_neg = './input/' + study + '/including_ALE_stat_neg.nii'\n",
    "excluding_ALE_stat_file = './input/' + study + '/excluding_ALE_stat.nii'\n",
    "excluding_ALE_stat_file_neg = './input/' + study + '/excluding_ALE_stat_neg.nii'\n",
    "including_AES_stat_file = './input/' + study + '/including_AES_stat.nii.gz'\n",
    "including_AES_stat_file_neg = './input/' + study + '/including_AES_stat.nii.gz'\n",
    "excluding_AES_stat_file = './input/' + study + '/excluding_AES_stat.nii.gz'\n",
    "excluding_AES_stat_file_neg = './input/' + study + '/excluding_AES_stat.nii.gz'\n",
    "including_PSI_stat_file = './input/' + study + '/including_PSI_stat.nii.gz'\n",
    "including_PSI_stat_file_neg = './input/' + study + '/including_PSI_stat.nii.gz'\n",
    "excluding_PSI_stat_file = './input/' + study + '/excluding_PSI_stat.nii.gz'\n",
    "excluding_PSI_stat_file_neg = './input/' + study + '/excluding_PSI_stat.nii.gz'\n",
    "# uncor_Analysis mask\n",
    "including_ALE_mask_file = './input/' + study + '/including_ALE_mask.nii.gz'\n",
    "excluding_ALE_mask_file = './input/' + study + '/excluding_ALE_mask.nii.gz'\n",
    "including_AES_mask_file = './input/' + study + '/including_AES_mask.nii.gz'\n",
    "excluding_AES_mask_file = './input/' + study + '/excluding_AES_mask.nii.gz'\n",
    "including_PSI_mask_file = './input/' + study + '/including_PSI_mask.nii.gz'\n",
    "excluding_PSI_mask_file = './input/' + study + '/excluding_PSI_mask.nii.gz'"
   ]
  },
  {
   "cell_type": "code",
   "execution_count": 17,
   "id": "democratic-concert",
   "metadata": {},
   "outputs": [
    {
     "name": "stdout",
     "output_type": "stream",
     "text": [
      "excluding_ALE/including_ALE positive activation dice coefficient = 1.00000, 0, 0\n",
      "excluding_ALE/including_ALE negative activation dice coefficient = 1.00000, 0, 0\n",
      "excluding_AES/including_AES positive activation dice coefficient = 0.94986, 0, 0\n",
      "excluding_AES/including_AES negative activation dice coefficient = 0.96143, 0, 0\n",
      "excluding_PSI/including_PSI positive activation dice coefficient = 0.86466, 0, 0\n",
      "excluding_PSI/including_PSI negative activation dice coefficient = 0.71579, 0, 0\n"
     ]
    }
   ],
   "source": [
    "import dice_including_vs_excluding_no_peak_articles\n",
    "dice_including_vs_excluding_no_peak_articles.dice(including_ALE_file, excluding_ALE_file, including_AES_file, excluding_AES_file, including_PSI_file, excluding_PSI_file,\n",
    "         including_ALE_file_neg=including_ALE_file_neg, excluding_ALE_file_neg=excluding_ALE_file_neg, \n",
    "         including_ALE_stat_file=including_ALE_stat_file, excluding_ALE_stat_file=excluding_ALE_stat_file, excluding_ALE_stat_file_neg=excluding_ALE_stat_file_neg, including_ALE_stat_file_neg=including_ALE_stat_file_neg,\n",
    "         including_AES_file_neg=including_AES_file_neg, excluding_AES_file_neg=excluding_AES_file_neg, \n",
    "         including_AES_stat_file=including_AES_stat_file, excluding_AES_stat_file=excluding_AES_stat_file, excluding_AES_stat_file_neg=excluding_AES_stat_file_neg, including_AES_stat_file_neg=including_AES_stat_file_neg,\n",
    "         including_PSI_file_neg=including_PSI_file_neg, excluding_PSI_file_neg=excluding_PSI_file_neg, \n",
    "         including_PSI_stat_file=including_PSI_stat_file, excluding_PSI_stat_file=excluding_PSI_stat_file, excluding_PSI_stat_file_neg=excluding_PSI_stat_file_neg, including_PSI_stat_file_neg=including_PSI_stat_file_neg,\n",
    "         study=study,\n",
    "         )"
   ]
  },
  {
   "cell_type": "code",
   "execution_count": null,
   "id": "literary-shelf",
   "metadata": {},
   "outputs": [],
   "source": []
  },
  {
   "cell_type": "code",
   "execution_count": null,
   "id": "light-there",
   "metadata": {},
   "outputs": [],
   "source": []
  }
 ],
 "metadata": {
  "kernelspec": {
   "display_name": "Python 3",
   "language": "python",
   "name": "python3"
  },
  "language_info": {
   "codemirror_mode": {
    "name": "ipython",
    "version": 3
   },
   "file_extension": ".py",
   "mimetype": "text/x-python",
   "name": "python",
   "nbconvert_exporter": "python",
   "pygments_lexer": "ipython3",
   "version": "3.7.10"
  }
 },
 "nbformat": 4,
 "nbformat_minor": 5
}
