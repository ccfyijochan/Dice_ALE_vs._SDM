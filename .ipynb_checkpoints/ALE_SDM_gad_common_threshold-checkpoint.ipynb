{
 "cells": [
  {
   "cell_type": "code",
   "execution_count": 1,
   "id": "inappropriate-reasoning",
   "metadata": {},
   "outputs": [
    {
     "name": "stderr",
     "output_type": "stream",
     "text": [
      "C:\\Users\\zhang\\.conda\\envs\\tensorflow\\lib\\site-packages\\nilearn\\datasets\\__init__.py:90: FutureWarning: Fetchers from the nilearn.datasets module will be updated in version 0.9 to return python strings instead of bytes and Pandas dataframes instead of Numpy arrays.\n",
      "  \"Numpy arrays.\", FutureWarning)\n"
     ]
    }
   ],
   "source": [
    "import os\n",
    "from subprocess import check_call\n",
    "import zipfile\n",
    "from nilearn import plotting\n",
    "import shutil\n",
    "import pandas as pd"
   ]
  },
  {
   "cell_type": "code",
   "execution_count": 2,
   "id": "hollywood-accessory",
   "metadata": {},
   "outputs": [],
   "source": [
    "study = 'gad_common_threshold'"
   ]
  },
  {
   "cell_type": "code",
   "execution_count": 3,
   "id": "simple-introduction",
   "metadata": {},
   "outputs": [],
   "source": [
    "#ALE_Thresholded statistics\n",
    "ALE_file = './input/' + study + '/ALE.nii'\n",
    "ALE_file_neg = './input/' + study + '/ALE_neg.nii'\n",
    "AES_file = './input/' + study + '/AES.nii.gz'\n",
    "AES_file_neg = './input/' + study + '/AES_neg.nii.gz'\n",
    "#uncor_Unthresholded statistics\n",
    "AES_stat_file = './input/' + study + '/AES_stat.nii.gz'\n",
    "ALE_stat_file = './input/' + study + '/ALE_stat.nii'\n",
    "ALE_stat_file_neg = './input/' + study + '/ALE_stat_neg.nii'\n",
    "# uncor_Analysis mask\n",
    "AES_mask_file = './input/' + study + '/AES_mask.nii.gz'\n",
    "ALE_mask_file = './input/' + study + '/ALE_mask.nii.gz'"
   ]
  },
  {
   "cell_type": "code",
   "execution_count": 4,
   "id": "chief-assault",
   "metadata": {},
   "outputs": [
    {
     "name": "stdout",
     "output_type": "stream",
     "text": [
      "AES/ALE positive activation dice coefficient = 0.04296, 44, 3\n",
      "AES/ALE negative activation dice coefficient = 0.00000, 0, 1\n"
     ]
    }
   ],
   "source": [
    "import dice_gad_common\n",
    "dice_gad_common.dice(ALE_file, AES_file,\n",
    "         ALE_file_neg, AES_file_neg, \n",
    "         ALE_stat_file=ALE_stat_file, AES_stat_file=AES_stat_file, ALE_stat_file_neg=ALE_stat_file_neg,\n",
    "         study=study,\n",
    "         )"
   ]
  },
  {
   "cell_type": "code",
   "execution_count": null,
   "id": "simple-therapist",
   "metadata": {},
   "outputs": [],
   "source": []
  },
  {
   "cell_type": "code",
   "execution_count": null,
   "id": "prescription-gnome",
   "metadata": {},
   "outputs": [],
   "source": []
  }
 ],
 "metadata": {
  "kernelspec": {
   "display_name": "Python 3",
   "language": "python",
   "name": "python3"
  },
  "language_info": {
   "codemirror_mode": {
    "name": "ipython",
    "version": 3
   },
   "file_extension": ".py",
   "mimetype": "text/x-python",
   "name": "python",
   "nbconvert_exporter": "python",
   "pygments_lexer": "ipython3",
   "version": "3.7.10"
  }
 },
 "nbformat": 4,
 "nbformat_minor": 5
}
